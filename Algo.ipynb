{
 "cells": [
  {
   "cell_type": "code",
   "execution_count": 3,
   "id": "d5fe4ea2-86e7-437b-99aa-73789ac325f4",
   "metadata": {},
   "outputs": [],
   "source": [
    "import qiskit.quantum_info as qi\n",
    "from qiskit.circuit.library import FourierChecking\n",
    "from qiskit.visualization import plot_histogram"
   ]
  },
  {
   "cell_type": "code",
   "execution_count": 4,
   "id": "ca6e4ea2-8b5c-48c1-8c9e-314825ad9b3c",
   "metadata": {},
   "outputs": [],
   "source": [
    "f=[1,-1,-1,-1]\n",
    "g=[1,1,-1,-1]"
   ]
  },
  {
   "cell_type": "code",
   "execution_count": 5,
   "id": "fd823bde-11d8-4c87-8bf1-eecb374095db",
   "metadata": {},
   "outputs": [
    {
     "data": {
      "image/png": "[encoded data removed]",
      "text/plain": [
       "<Figure size 387.452x144.48 with 1 Axes>"
      ]
     },
     "execution_count": 5,
     "metadata": {},
     "output_type": "execute_result"
    }
   ],
   "source": [
    "circ = FourierChecking(f=f,g=g)\n",
    "circ.draw()"
   ]
  },
  {
   "cell_type": "code",
   "execution_count": 6,
   "id": "2291b95c-2c5c-49dc-af7f-7d21461489df",
   "metadata": {},
   "outputs": [
    {
     "data": {
      "image/png": "[encoded data removed]",
      "text/plain": [
       "<Figure size 504x360 with 1 Axes>"
      ]
     },
     "execution_count": 6,
     "metadata": {},
     "output_type": "execute_result"
    }
   ],
   "source": [
    "zero = qi.Statevector.from_label('00')\n",
    "sv = zero.evolve(circ)\n",
    "probs = sv.probabilities_dict()\n",
    "plot_histogram(probs)"
   ]
  },
  {
   "cell_type": "code",
   "execution_count": null,
   "id": "e17daac5-fde4-40d8-8183-2b31c0aeac40",
   "metadata": {},
   "outputs": [],
   "source": []
  }
 ],
 "metadata": {
  "kernelspec": {
   "display_name": "Python 3 (ipykernel)",
   "language": "python",
   "name": "python3"
  },
  "language_info": {
   "codemirror_mode": {
    "name": "ipython",
    "version": 3
   },
   "file_extension": ".py",
   "mimetype": "text/x-python",
   "name": "python",
   "nbconvert_exporter": "python",
   "pygments_lexer": "ipython3",
   "version": "3.8.13"
  },
  "widgets": {
   "application/vnd.jupyter.widget-state+json": {
    "state": {
     "0e044e9ee7724148b7cb6ea041ae273d": {
      "model_module": "@jupyter-widgets/controls",
      "model_module_version": "1.5.0",
      "model_name": "DescriptionStyleModel",
      "state": {
       "description_width": ""
      }
     },
     "0ecea8ce6f00494ab26c8b541f566230": {
      "model_module": "@jupyter-widgets/controls",
      "model_module_version": "1.5.0",
      "model_name": "HTMLModel",
      "state": {
       "layout": "IPY_MODEL_afa6bcd42e474faf96845fd139e05ae9",
       "style": "IPY_MODEL_62a79fb84b754c04ab68ccea69a125cd",
       "value": "<h5>Message</h5>"
      }
     },
     "0f020939bf7e4498b8100423b4efa3d5": {
      "model_module": "@jupyter-widgets/controls",
      "model_module_version": "1.5.0",
      "model_name": "DescriptionStyleModel",
      "state": {
       "description_width": ""
      }
     },
     "14ad6a1abd9c4f078792302b3752b7d6": {
      "model_module": "@jupyter-widgets/controls",
      "model_module_version": "1.5.0",
      "model_name": "GridBoxModel",
      "state": {
       "children": [
        "IPY_MODEL_a5f0d99e1e534089963af0943065e476"
       ],
       "layout": "IPY_MODEL_cab388ee5fb048ec828b06f6fd640658"
      }
     },
     "1621a8517a574ce5ab8946d1fa989acc": {
      "model_module": "@jupyter-widgets/controls",
      "model_module_version": "1.5.0",
      "model_name": "HTMLModel",
      "state": {
       "layout": "IPY_MODEL_2f538558d3b54b269bbac836f87db741",
       "style": "IPY_MODEL_0f020939bf7e4498b8100423b4efa3d5",
       "value": "<p style='font-family: IBM Plex Sans, Arial, Helvetica, sans-serif; font-size: 20px; font-weight: medium;'>Circuit Properties</p>"
      }
     },
     "291eafb7183e4015bbdb0e5ea65c827e": {
      "model_module": "@jupyter-widgets/base",
      "model_module_version": "1.2.0",
      "model_name": "LayoutModel",
      "state": {
       "margin": "0px 0px 0px 37px",
       "width": "600px"
      }
     },
     "2e7398a5ac974023a732becf061aeeb4": {
      "model_module": "@jupyter-widgets/base",
      "model_module_version": "1.2.0",
      "model_name": "LayoutModel",
      "state": {
       "width": "145px"
      }
     },
     "2f538558d3b54b269bbac836f87db741": {
      "model_module": "@jupyter-widgets/base",
      "model_module_version": "1.2.0",
      "model_name": "LayoutModel",
      "state": {
       "margin": "0px 0px 10px 0px"
      }
     },
     "39ea80ab65e647e89a77cb8feb345538": {
      "model_module": "@jupyter-widgets/controls",
      "model_module_version": "1.5.0",
      "model_name": "HTMLModel",
      "state": {
       "layout": "IPY_MODEL_c7c2111706b248109f1e4bab5dfa0594",
       "style": "IPY_MODEL_9ebdb0a8247a4d9ea060faa1511b5708",
       "value": "<h5>Job ID</h5>"
      }
     },
     "62a79fb84b754c04ab68ccea69a125cd": {
      "model_module": "@jupyter-widgets/controls",
      "model_module_version": "1.5.0",
      "model_name": "DescriptionStyleModel",
      "state": {
       "description_width": ""
      }
     },
     "67624f60a9274ffba5557e4ba4fb891e": {
      "model_module": "@jupyter-widgets/base",
      "model_module_version": "1.2.0",
      "model_name": "LayoutModel",
      "state": {
       "grid_area": "right",
       "padding": "0px 0px 0px 0px",
       "width": "70px"
      }
     },
     "7486dab737e44f9bb1e0373785404ac5": {
      "model_module": "@jupyter-widgets/controls",
      "model_module_version": "1.5.0",
      "model_name": "HBoxModel",
      "state": {
       "children": [
        "IPY_MODEL_39ea80ab65e647e89a77cb8feb345538",
        "IPY_MODEL_f82480b860cf496eaaad378f067d31f8",
        "IPY_MODEL_be34233b45374074bd7b2fe9b5a1ea70",
        "IPY_MODEL_be1b338f208d41dd9c84516517dc9f8b",
        "IPY_MODEL_0ecea8ce6f00494ab26c8b541f566230"
       ],
       "layout": "IPY_MODEL_291eafb7183e4015bbdb0e5ea65c827e"
      }
     },
     "9ebdb0a8247a4d9ea060faa1511b5708": {
      "model_module": "@jupyter-widgets/controls",
      "model_module_version": "1.5.0",
      "model_name": "DescriptionStyleModel",
      "state": {
       "description_width": ""
      }
     },
     "a5f0d99e1e534089963af0943065e476": {
      "model_module": "@jupyter-widgets/controls",
      "model_module_version": "1.5.0",
      "model_name": "ButtonModel",
      "state": {
       "button_style": "primary",
       "description": "Clear",
       "layout": "IPY_MODEL_67624f60a9274ffba5557e4ba4fb891e",
       "style": "IPY_MODEL_d03f534604da4900b9e14dac54d0240c"
      }
     },
     "afa6bcd42e474faf96845fd139e05ae9": {
      "model_module": "@jupyter-widgets/base",
      "model_module_version": "1.2.0",
      "model_name": "LayoutModel",
      "state": {}
     },
     "be1b338f208d41dd9c84516517dc9f8b": {
      "model_module": "@jupyter-widgets/controls",
      "model_module_version": "1.5.0",
      "model_name": "HTMLModel",
      "state": {
       "layout": "IPY_MODEL_fc8a3660438d43cf8dec98c414e87c26",
       "style": "IPY_MODEL_fb71fe06084d40deb6c247fd31f0a330",
       "value": "<h5>Queue</h5>"
      }
     },
     "be34233b45374074bd7b2fe9b5a1ea70": {
      "model_module": "@jupyter-widgets/controls",
      "model_module_version": "1.5.0",
      "model_name": "HTMLModel",
      "state": {
       "layout": "IPY_MODEL_e0fcc8b0c1274da18c2ad28517d152ce",
       "style": "IPY_MODEL_c6d0b6168358454ca41acdebb4a89f46",
       "value": "<h5>Status</h5>"
      }
     },
     "c6d0b6168358454ca41acdebb4a89f46": {
      "model_module": "@jupyter-widgets/controls",
      "model_module_version": "1.5.0",
      "model_name": "DescriptionStyleModel",
      "state": {
       "description_width": ""
      }
     },
     "c7c2111706b248109f1e4bab5dfa0594": {
      "model_module": "@jupyter-widgets/base",
      "model_module_version": "1.2.0",
      "model_name": "LayoutModel",
      "state": {
       "width": "190px"
      }
     },
     "cab388ee5fb048ec828b06f6fd640658": {
      "model_module": "@jupyter-widgets/base",
      "model_module_version": "1.2.0",
      "model_name": "LayoutModel",
      "state": {
       "grid_template_areas": "\n                                       \". . . . right \"\n                                        ",
       "grid_template_columns": "20% 20% 20% 20% 20%",
       "width": "100%"
      }
     },
     "d03f534604da4900b9e14dac54d0240c": {
      "model_module": "@jupyter-widgets/controls",
      "model_module_version": "1.5.0",
      "model_name": "ButtonStyleModel",
      "state": {}
     },
     "e0fcc8b0c1274da18c2ad28517d152ce": {
      "model_module": "@jupyter-widgets/base",
      "model_module_version": "1.2.0",
      "model_name": "LayoutModel",
      "state": {
       "width": "95px"
      }
     },
     "f82480b860cf496eaaad378f067d31f8": {
      "model_module": "@jupyter-widgets/controls",
      "model_module_version": "1.5.0",
      "model_name": "HTMLModel",
      "state": {
       "layout": "IPY_MODEL_2e7398a5ac974023a732becf061aeeb4",
       "style": "IPY_MODEL_0e044e9ee7724148b7cb6ea041ae273d",
       "value": "<h5>Backend</h5>"
      }
     },
     "fb71fe06084d40deb6c247fd31f0a330": {
      "model_module": "@jupyter-widgets/controls",
      "model_module_version": "1.5.0",
      "model_name": "DescriptionStyleModel",
      "state": {
       "description_width": ""
      }
     },
     "fc8a3660438d43cf8dec98c414e87c26": {
      "model_module": "@jupyter-widgets/base",
      "model_module_version": "1.2.0",
      "model_name": "LayoutModel",
      "state": {
       "width": "70px"
      }
     }
    },
    "version_major": 2,
    "version_minor": 0
   }
  }
 },
 "nbformat": 4,
 "nbformat_minor": 5
}
